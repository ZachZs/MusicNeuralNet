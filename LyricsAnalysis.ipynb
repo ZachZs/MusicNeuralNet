{
 "cells": [
  {
   "cell_type": "markdown",
   "metadata": {},
   "source": [
    "#### Metrolyrics Analysis\n",
    "\n",
    "https://www.kaggle.com/gyani95/380000-lyrics-from-metrolyrics\n",
    "\n",
    "- ~266k of Non null rows\n",
    "- ~380,000 Total Rows (more like 260k w/ 95k missing for lyrics)\n",
    "- Also missing about 60k of correct genre names\n",
    "- Columns: Song, Year, Artist, Genre and Lyrics\n"
   ]
  },
  {
   "cell_type": "code",
   "execution_count": 1,
   "metadata": {},
   "outputs": [],
   "source": [
    "import pandas as pd"
   ]
  },
  {
   "cell_type": "code",
   "execution_count": 2,
   "metadata": {},
   "outputs": [],
   "source": [
    "lyrics = pd.read_csv(\"lyrics.csv\")\n",
    "del lyrics['index']"
   ]
  },
  {
   "cell_type": "code",
   "execution_count": 3,
   "metadata": {},
   "outputs": [
    {
     "data": {
      "text/html": [
       "<div>\n",
       "<style scoped>\n",
       "    .dataframe tbody tr th:only-of-type {\n",
       "        vertical-align: middle;\n",
       "    }\n",
       "\n",
       "    .dataframe tbody tr th {\n",
       "        vertical-align: top;\n",
       "    }\n",
       "\n",
       "    .dataframe thead th {\n",
       "        text-align: right;\n",
       "    }\n",
       "</style>\n",
       "<table border=\"1\" class=\"dataframe\">\n",
       "  <thead>\n",
       "    <tr style=\"text-align: right;\">\n",
       "      <th></th>\n",
       "      <th>song</th>\n",
       "      <th>year</th>\n",
       "      <th>artist</th>\n",
       "      <th>genre</th>\n",
       "      <th>lyrics</th>\n",
       "    </tr>\n",
       "  </thead>\n",
       "  <tbody>\n",
       "    <tr>\n",
       "      <th>0</th>\n",
       "      <td>ego-remix</td>\n",
       "      <td>2009</td>\n",
       "      <td>beyonce-knowles</td>\n",
       "      <td>Pop</td>\n",
       "      <td>Oh baby, how you doing?\\nYou know I'm gonna cu...</td>\n",
       "    </tr>\n",
       "    <tr>\n",
       "      <th>1</th>\n",
       "      <td>then-tell-me</td>\n",
       "      <td>2009</td>\n",
       "      <td>beyonce-knowles</td>\n",
       "      <td>Pop</td>\n",
       "      <td>playin' everything so easy,\\nit's like you see...</td>\n",
       "    </tr>\n",
       "    <tr>\n",
       "      <th>2</th>\n",
       "      <td>honesty</td>\n",
       "      <td>2009</td>\n",
       "      <td>beyonce-knowles</td>\n",
       "      <td>Pop</td>\n",
       "      <td>If you search\\nFor tenderness\\nIt isn't hard t...</td>\n",
       "    </tr>\n",
       "    <tr>\n",
       "      <th>3</th>\n",
       "      <td>you-are-my-rock</td>\n",
       "      <td>2009</td>\n",
       "      <td>beyonce-knowles</td>\n",
       "      <td>Pop</td>\n",
       "      <td>Oh oh oh I, oh oh oh I\\n[Verse 1:]\\nIf I wrote...</td>\n",
       "    </tr>\n",
       "    <tr>\n",
       "      <th>4</th>\n",
       "      <td>black-culture</td>\n",
       "      <td>2009</td>\n",
       "      <td>beyonce-knowles</td>\n",
       "      <td>Pop</td>\n",
       "      <td>Party the people, the people the party it's po...</td>\n",
       "    </tr>\n",
       "  </tbody>\n",
       "</table>\n",
       "</div>"
      ],
      "text/plain": [
       "              song  year           artist genre  \\\n",
       "0        ego-remix  2009  beyonce-knowles   Pop   \n",
       "1     then-tell-me  2009  beyonce-knowles   Pop   \n",
       "2          honesty  2009  beyonce-knowles   Pop   \n",
       "3  you-are-my-rock  2009  beyonce-knowles   Pop   \n",
       "4    black-culture  2009  beyonce-knowles   Pop   \n",
       "\n",
       "                                              lyrics  \n",
       "0  Oh baby, how you doing?\\nYou know I'm gonna cu...  \n",
       "1  playin' everything so easy,\\nit's like you see...  \n",
       "2  If you search\\nFor tenderness\\nIt isn't hard t...  \n",
       "3  Oh oh oh I, oh oh oh I\\n[Verse 1:]\\nIf I wrote...  \n",
       "4  Party the people, the people the party it's po...  "
      ]
     },
     "execution_count": 3,
     "metadata": {},
     "output_type": "execute_result"
    }
   ],
   "source": [
    "lyrics.head()"
   ]
  },
  {
   "cell_type": "markdown",
   "metadata": {},
   "source": [
    "##### Looking at all the rows"
   ]
  },
  {
   "cell_type": "code",
   "execution_count": 4,
   "metadata": {},
   "outputs": [
    {
     "name": "stdout",
     "output_type": "stream",
     "text": [
      "Unique Genre's ['Pop' 'Hip-Hop' 'Not Available' 'Other' 'Rock' 'Metal' 'Country' 'Jazz'\n",
      " 'Electronic' 'Folk' 'R&B' 'Indie']\n",
      "Rock             131377\n",
      "Pop               49444\n",
      "Hip-Hop           33965\n",
      "Not Available     29814\n",
      "Metal             28408\n",
      "Other             23683\n",
      "Country           17286\n",
      "Jazz              17147\n",
      "Electronic        16205\n",
      "R&B                5935\n",
      "Indie              5732\n",
      "Folk               3241\n",
      "Name: genre, dtype: int64\n"
     ]
    }
   ],
   "source": [
    "# View the unique genre's\n",
    "print(\"Unique Genre's\", lyrics.genre.unique())\n",
    "print(lyrics.genre.value_counts())"
   ]
  },
  {
   "cell_type": "code",
   "execution_count": 6,
   "metadata": {},
   "outputs": [
    {
     "name": "stdout",
     "output_type": "stream",
     "text": [
      "Unique Artists ['beyonce-knowles' 'eazy-e' 'asher-monroe' ... 'ale-mrthller' 'dee-smgn'\n",
      " 'edens-edge']\n",
      "dolly-parton                 755\n",
      "american-idol                700\n",
      "elton-john                   680\n",
      "b-b-king                     667\n",
      "chris-brown                  655\n",
      "                            ... \n",
      "bombay-vikings                 1\n",
      "daniel-rossen                  1\n",
      "the-gaither-singers            1\n",
      "bonnie-pointer                 1\n",
      "gocho-el-lapiz-de-platino      1\n",
      "Name: artist, Length: 18231, dtype: int64\n"
     ]
    }
   ],
   "source": [
    "# View the unique artist's\n",
    "print(\"Unique Artists\", lyrics.artist.unique())\n",
    "print(lyrics.artist.value_counts())"
   ]
  },
  {
   "cell_type": "code",
   "execution_count": 7,
   "metadata": {},
   "outputs": [
    {
     "data": {
      "text/plain": [
       "song          2\n",
       "year          0\n",
       "artist        0\n",
       "genre         0\n",
       "lyrics    95680\n",
       "dtype: int64"
      ]
     },
     "execution_count": 7,
     "metadata": {},
     "output_type": "execute_result"
    }
   ],
   "source": [
    "# View number of missing values in each column\n",
    "# lyrics.lyrics.isna()\n",
    "lyrics.isnull().sum(axis = 0)"
   ]
  },
  {
   "cell_type": "code",
   "execution_count": 8,
   "metadata": {},
   "outputs": [
    {
     "data": {
      "text/plain": [
       "song      362235\n",
       "year      362237\n",
       "artist    362237\n",
       "genre     362237\n",
       "lyrics    266557\n",
       "dtype: int64"
      ]
     },
     "execution_count": 8,
     "metadata": {},
     "output_type": "execute_result"
    }
   ],
   "source": [
    "# Show number of Non Missing Values\n",
    "lyrics.notnull().sum(axis = 0)"
   ]
  },
  {
   "cell_type": "code",
   "execution_count": 9,
   "metadata": {},
   "outputs": [],
   "source": [
    "# Created a lyrics count list for how many words are in a song\n",
    "lyrics_count = lyrics['lyrics'].str.count(' ') + 1"
   ]
  },
  {
   "cell_type": "code",
   "execution_count": 10,
   "metadata": {},
   "outputs": [
    {
     "data": {
      "text/plain": [
       "1.0"
      ]
     },
     "execution_count": 10,
     "metadata": {},
     "output_type": "execute_result"
    }
   ],
   "source": [
    "lyrics_count.max()\n",
    "lyrics_count.min()"
   ]
  },
  {
   "cell_type": "code",
   "execution_count": 11,
   "metadata": {},
   "outputs": [
    {
     "name": "stdout",
     "output_type": "stream",
     "text": [
      "Average # of words per song: 193.35993052142695\n",
      "Maximum # of words per song: 7106.0\n",
      "Minimum # of words per song: 1.0\n",
      "StanDev # of words per song: 138.2510659779955\n",
      "Total Number of Rows: song      362235\n",
      "year      362237\n",
      "artist    362237\n",
      "genre     362237\n",
      "lyrics    266557\n",
      "dtype: int64\n"
     ]
    }
   ],
   "source": [
    "# Some info about the length of the songs for all Rows\n",
    "print(\"Average # of words per song:\", lyrics_count.mean())\n",
    "print(\"Maximum # of words per song:\", lyrics_count.max())\n",
    "print(\"Minimum # of words per song:\", lyrics_count.min())\n",
    "print(\"StanDev # of words per song:\", lyrics_count.std())\n",
    "print(\"Total Number of Rows:\", lyrics.count())"
   ]
  },
  {
   "cell_type": "code",
   "execution_count": 12,
   "metadata": {},
   "outputs": [
    {
     "data": {
      "text/plain": [
       "362222      NaN\n",
       "362223      NaN\n",
       "362224      NaN\n",
       "362225    151.0\n",
       "362226     71.0\n",
       "362227    313.0\n",
       "362228    262.0\n",
       "362229    176.0\n",
       "362230    203.0\n",
       "362231    193.0\n",
       "362232    280.0\n",
       "362233    175.0\n",
       "362234    213.0\n",
       "362235    145.0\n",
       "362236    287.0\n",
       "Name: lyrics, dtype: float64"
      ]
     },
     "execution_count": 12,
     "metadata": {},
     "output_type": "execute_result"
    }
   ],
   "source": [
    "lyrics_count.tail(15)"
   ]
  },
  {
   "cell_type": "markdown",
   "metadata": {},
   "source": [
    "##### Looking at only NonNull Rows"
   ]
  },
  {
   "cell_type": "code",
   "execution_count": 13,
   "metadata": {},
   "outputs": [],
   "source": [
    "lyrics_NotNull = lyrics.dropna()"
   ]
  },
  {
   "cell_type": "code",
   "execution_count": 14,
   "metadata": {},
   "outputs": [
    {
     "data": {
      "text/plain": [
       "Rock             109235\n",
       "Pop               40466\n",
       "Hip-Hop           24850\n",
       "Not Available     23941\n",
       "Metal             23759\n",
       "Country           14387\n",
       "Jazz               7970\n",
       "Electronic         7966\n",
       "Other              5189\n",
       "R&B                3401\n",
       "Indie              3149\n",
       "Folk               2243\n",
       "Name: genre, dtype: int64"
      ]
     },
     "execution_count": 14,
     "metadata": {},
     "output_type": "execute_result"
    }
   ],
   "source": [
    "# Values for Genre's for NonNull rows\n",
    "lyrics_NotNull.genre.value_counts()"
   ]
  },
  {
   "cell_type": "code",
   "execution_count": 15,
   "metadata": {},
   "outputs": [],
   "source": [
    "lyrics_count_NotNull = lyrics_NotNull['lyrics'].str.count(' ') + 1"
   ]
  },
  {
   "cell_type": "code",
   "execution_count": 16,
   "metadata": {},
   "outputs": [
    {
     "name": "stdout",
     "output_type": "stream",
     "text": [
      "Average # of words per song: 193.3595229520251\n",
      "Maximum # of words per song: 7106\n",
      "Minimum # of words per song: 1\n",
      "StanDev # of words per song: 138.25116516859234\n",
      "Total Number of Rows: song      266556\n",
      "year      266556\n",
      "artist    266556\n",
      "genre     266556\n",
      "lyrics    266556\n",
      "dtype: int64\n"
     ]
    }
   ],
   "source": [
    "# Some info about the length of the songs for NONNULL rows\n",
    "print(\"Average # of words per song:\", lyrics_count_NotNull.mean())\n",
    "print(\"Maximum # of words per song:\", lyrics_count_NotNull.max())\n",
    "print(\"Minimum # of words per song:\", lyrics_count_NotNull.min())\n",
    "print(\"StanDev # of words per song:\", lyrics_count_NotNull.std())\n",
    "print(\"Total Number of Rows:\", lyrics_NotNull.count())"
   ]
  },
  {
   "cell_type": "code",
   "execution_count": 17,
   "metadata": {},
   "outputs": [
    {
     "data": {
      "text/plain": [
       "14543"
      ]
     },
     "execution_count": 17,
     "metadata": {},
     "output_type": "execute_result"
    }
   ],
   "source": [
    "len(lyrics_NotNull.artist.unique())"
   ]
  },
  {
   "cell_type": "code",
   "execution_count": null,
   "metadata": {},
   "outputs": [],
   "source": []
  },
  {
   "cell_type": "code",
   "execution_count": null,
   "metadata": {},
   "outputs": [],
   "source": []
  }
 ],
 "metadata": {
  "kernelspec": {
   "display_name": "Python 3",
   "language": "python",
   "name": "python3"
  },
  "language_info": {
   "codemirror_mode": {
    "name": "ipython",
    "version": 3
   },
   "file_extension": ".py",
   "mimetype": "text/x-python",
   "name": "python",
   "nbconvert_exporter": "python",
   "pygments_lexer": "ipython3",
   "version": "3.7.3"
  }
 },
 "nbformat": 4,
 "nbformat_minor": 4
}
